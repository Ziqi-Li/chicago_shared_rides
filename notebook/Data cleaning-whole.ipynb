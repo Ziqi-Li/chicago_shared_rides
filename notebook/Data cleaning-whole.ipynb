{
 "cells": [
  {
   "cell_type": "code",
   "execution_count": 1,
   "metadata": {},
   "outputs": [],
   "source": [
    "import censusdata\n",
    "import geopandas as gpd\n",
    "import pandas as pd\n",
    "import numpy as np"
   ]
  },
  {
   "cell_type": "code",
   "execution_count": 2,
   "metadata": {},
   "outputs": [],
   "source": [
    "acs = censusdata.download('acs5' #Dataset to use\n",
    "                          ,2018, # year 2014-2018, the most recent one\n",
    "                          censusdata.censusgeo([('state', '17'), ('county', '031'), ('tract',\"*\")]), #Geography\n",
    "                          ['DP02_0065PE', #Pct_bach\n",
    "                           'DP03_0062E', #income\n",
    "                           'DP05_0001E', #total_pop\n",
    "                           'DP05_0004E', #sex_ratio\n",
    "                           'DP05_0037PE', #pct_white\n",
    "                           'DP05_0018E', #median_age\n",
    "                           'DP04_0058PE', #no-car\n",
    "                           'DP03_0005PE' #unemplo\n",
    "                          ],\n",
    "                         tabletype='profile')\n",
    "\n",
    "acs.columns=['pct_bach','median_income','total_pop','sex_ratio','pct_white',\n",
    "             'median_age','pct_no_car','pct_unemp']\n",
    "\n",
    "\n",
    "\n",
    "age = censusdata.download('acs5', 2018, \n",
    "                           censusdata.censusgeo([('state', '17'), ('county', '031'), ('tract',\"*\")]), #Geography\n",
    "                                   ['B01001_007E', #M18/19\n",
    "                                    'B01001_008E', #M20\n",
    "                                    'B01001_009E', #M21\n",
    "                                    'B01001_010E', #M22-24\n",
    "                                    'B01001_011E', #M25-29\n",
    "                                    'B01001_031E', #F18/19\n",
    "                                    'B01001_032E', #F20\n",
    "                                    'B01001_033E', #F21\n",
    "                                    'B01001_034E', #F22-24\n",
    "                                    'B01001_035E' #F25-29\n",
    "                                   ])\n",
    "\n",
    "acs[\"age_18_29\"] = age.sum(axis = 1)\n",
    "acs[\"pct_age_18_29\"] = acs[\"age_18_29\"]/acs[\"total_pop\"] * 100\n",
    "\n",
    "censusdata.export.exportcsv(\"data/acs.csv\", acs)\n",
    "acs_df = pd.read_csv(\"data/acs.csv\")\n",
    "acs_df[\"GEOID\"] = acs_df.state.astype(str) + acs_df.county.astype(str).str.zfill(3) + acs_df.tract.astype(str).str.zfill(6)\n",
    "acs_df[\"GEOID\"] = acs_df[\"GEOID\"]"
   ]
  },
  {
   "cell_type": "code",
   "execution_count": 3,
   "metadata": {},
   "outputs": [],
   "source": [
    "SLD = pd.read_csv(\"data/SLD_trac.csv\")\n",
    "SLD[\"TRACTCE\"] = \"17031\" + SLD[\"TRACTCE\"].astype(str).str.zfill(6)"
   ]
  },
  {
   "cell_type": "code",
   "execution_count": 4,
   "metadata": {},
   "outputs": [
    {
     "data": {
      "text/plain": [
       "0        17031000100\n",
       "1        17031000101\n",
       "2        17031000102\n",
       "3        17031000103\n",
       "4        17031000104\n",
       "            ...     \n",
       "16539    17031985000\n",
       "16540    17031985100\n",
       "16541    17031985300\n",
       "16542    17031985500\n",
       "16543    17031989100\n",
       "Name: TRACTCE, Length: 16544, dtype: object"
      ]
     },
     "execution_count": 4,
     "metadata": {},
     "output_type": "execute_result"
    }
   ],
   "source": [
    "SLD[\"TRACTCE\"]"
   ]
  },
  {
   "cell_type": "code",
   "execution_count": 5,
   "metadata": {},
   "outputs": [],
   "source": [
    "chicago = gpd.read_file(\"data/shp/geo_export_3890de09-5807-41da-984a-01b79afdfc2c.shp\")\n",
    "\n",
    "chicago.drop(['notes'], axis=1,inplace=True)\n",
    "\n",
    "chicago = chicago.to_crs(\"EPSG:32616\")"
   ]
  },
  {
   "cell_type": "code",
   "execution_count": 6,
   "metadata": {},
   "outputs": [
    {
     "data": {
      "text/plain": [
       "0      17031842400\n",
       "1      17031840300\n",
       "2      17031841100\n",
       "3      17031841200\n",
       "4      17031839000\n",
       "          ...     \n",
       "796    17031070400\n",
       "797    17031070500\n",
       "798    17031130300\n",
       "799    17031292200\n",
       "800    17031630900\n",
       "Name: geoid10, Length: 801, dtype: object"
      ]
     },
     "execution_count": 6,
     "metadata": {},
     "output_type": "execute_result"
    }
   ],
   "source": [
    "chicago.geoid10"
   ]
  },
  {
   "cell_type": "code",
   "execution_count": 7,
   "metadata": {},
   "outputs": [],
   "source": [
    "chicago = chicago.merge(acs_df,left_on=\"geoid10\",right_on=\"GEOID\")\n",
    "chicago = chicago.merge(SLD,left_on=\"geoid10\",right_on=\"TRACTCE\")\n",
    "\n",
    "chicago = chicago[chicago['total_pop']>500]"
   ]
  },
  {
   "cell_type": "code",
   "execution_count": 8,
   "metadata": {},
   "outputs": [],
   "source": [
    "metro = gpd.read_file(\"data/CTA_RailStations/CTA_RailStations.shp\").to_crs(\"epsg:4326\")\n",
    "chicago_4326 = chicago.to_crs(\"epsg:4326\")\n",
    "chicago['metro'] = metro[\"geometry\"].apply(lambda geom: chicago_4326[\"geometry\"].contains(geom)).sum(axis=0)\n",
    "chicago['metro'] = np.where(chicago['metro']<0.5,0,1)"
   ]
  },
  {
   "cell_type": "code",
   "execution_count": 12,
   "metadata": {},
   "outputs": [
    {
     "data": {
      "text/plain": [
       "<AxesSubplot:>"
      ]
     },
     "execution_count": 12,
     "metadata": {},
     "output_type": "execute_result"
    },
    {
     "data": {
      "image/png": "[encoded data removed]",
      "text/plain": [
       "<Figure size 432x288 with 2 Axes>"
      ]
     },
     "metadata": {
      "needs_background": "light"
     },
     "output_type": "display_data"
    }
   ],
   "source": [
    "chicago.plot(column='median_income',legend=True)"
   ]
  },
  {
   "cell_type": "code",
   "execution_count": 10,
   "metadata": {},
   "outputs": [
    {
     "name": "stderr",
     "output_type": "stream",
     "text": [
      "C:\\Users\\Z-Li\\AppData\\Local\\Temp/ipykernel_13964/1106809178.py:1: UserWarning: Column names longer than 10 characters will be truncated when saved to ESRI Shapefile.\n",
      "  chicago.to_file(\"data/shp/acs_tracts.shp\")\n"
     ]
    }
   ],
   "source": [
    "chicago.to_file(\"data/shp/acs_tracts.shp\")"
   ]
  },
  {
   "cell_type": "code",
   "execution_count": 11,
   "metadata": {},
   "outputs": [],
   "source": [
    "#import dask.dataframe as dd\n",
    "#df = dd.read_csv('data/Transportation_Network_Providers_-_Trips.csv')"
   ]
  },
  {
   "cell_type": "code",
   "execution_count": 12,
   "metadata": {},
   "outputs": [
    {
     "name": "stdout",
     "output_type": "stream",
     "text": [
      "Wall time: 3min 28s\n"
     ]
    }
   ],
   "source": [
    "%%time\n",
    "d = 10\n",
    "k = 9\n",
    "\n",
    "def keep(x):\n",
    "    if x==0:\n",
    "        return True\n",
    "    if (x-1) % d == k:\n",
    "        return True\n",
    "\n",
    "df = pd.read_csv(\"data/Transportation_Network_Providers_-_Trips.csv\", header=0, skiprows=lambda x: not keep(x))"
   ]
  },
  {
   "cell_type": "code",
   "execution_count": 13,
   "metadata": {},
   "outputs": [],
   "source": [
    "#df.head()"
   ]
  },
  {
   "cell_type": "code",
   "execution_count": 14,
   "metadata": {},
   "outputs": [
    {
     "name": "stdout",
     "output_type": "stream",
     "text": [
      "Wall time: 49.8 s\n"
     ]
    }
   ],
   "source": [
    "%%time\n",
    "df['start_datetime'] = pd.to_datetime(df[\"Trip Start Timestamp\"],format='%m/%d/%Y %I:%M:%S %p')\n",
    "\n",
    "df['month'] = df['start_datetime'].dt.month"
   ]
  },
  {
   "cell_type": "code",
   "execution_count": 15,
   "metadata": {},
   "outputs": [],
   "source": [
    "df['year'] = df['start_datetime'].dt.year"
   ]
  },
  {
   "cell_type": "code",
   "execution_count": 16,
   "metadata": {},
   "outputs": [],
   "source": [
    "df = df[df.year==2019]"
   ]
  },
  {
   "cell_type": "code",
   "execution_count": 17,
   "metadata": {},
   "outputs": [
    {
     "data": {
      "text/plain": [
       "(11182684, 24)"
      ]
     },
     "execution_count": 17,
     "metadata": {},
     "output_type": "execute_result"
    }
   ],
   "source": [
    "df.shape"
   ]
  },
  {
   "cell_type": "code",
   "execution_count": 18,
   "metadata": {},
   "outputs": [
    {
     "data": {
      "text/plain": [
       "count     11182684\n",
       "unique           2\n",
       "top          False\n",
       "freq       8948631\n",
       "Name: Shared Trip Authorized, dtype: object"
      ]
     },
     "execution_count": 18,
     "metadata": {},
     "output_type": "execute_result"
    }
   ],
   "source": [
    "df['Shared Trip Authorized'].describe()"
   ]
  },
  {
   "cell_type": "code",
   "execution_count": 19,
   "metadata": {},
   "outputs": [],
   "source": [
    "df = df[df['Trip Miles']<=50]\n",
    "df = df[df['Trip Miles']>=1]\n",
    "df = df[df['Trip Seconds']<=3600*2]\n",
    "df = df[df['Trip Seconds']>=5*60]\n",
    "df = df[df['Fare']>=2.5]\n",
    "df = df[df['Fare']<=50]\n",
    "\n",
    "df['fare_no_tip'] = df['Fare'] + np.round(df['Additional Charges'],0)\n",
    "\n",
    "df = df[df.fare_no_tip >= 5]\n",
    "df = df[df.fare_no_tip <= 40]"
   ]
  },
  {
   "cell_type": "code",
   "execution_count": 20,
   "metadata": {},
   "outputs": [
    {
     "data": {
      "image/png": "[encoded data removed]",
      "text/plain": [
       "<Figure size 432x288 with 1 Axes>"
      ]
     },
     "metadata": {
      "needs_background": "light"
     },
     "output_type": "display_data"
    }
   ],
   "source": [
    "df['Shared Trip Authorized'].value_counts().plot(kind='bar', title='Count (target)');"
   ]
  },
  {
   "cell_type": "code",
   "execution_count": 21,
   "metadata": {},
   "outputs": [],
   "source": [
    "df.dropna(inplace=True)"
   ]
  },
  {
   "cell_type": "code",
   "execution_count": null,
   "metadata": {},
   "outputs": [],
   "source": []
  },
  {
   "cell_type": "code",
   "execution_count": 22,
   "metadata": {},
   "outputs": [],
   "source": [
    "df[\"end_geoid\"] = df[\"Dropoff Census Tract\"].astype(np.int64).astype(str)\n",
    "df[\"start_geoid\"] = df[\"Pickup Census Tract\"].astype(np.int64).astype(str)"
   ]
  },
  {
   "cell_type": "code",
   "execution_count": 23,
   "metadata": {},
   "outputs": [
    {
     "name": "stdout",
     "output_type": "stream",
     "text": [
      "Wall time: 25.7 s\n"
     ]
    }
   ],
   "source": [
    "%%time\n",
    "\n",
    "df = df.merge(chicago,left_on=\"end_geoid\", right_on=\"GEOID\")\n",
    "\n",
    "df = df.merge(chicago,left_on=\"start_geoid\", right_on=\"GEOID\")"
   ]
  },
  {
   "cell_type": "code",
   "execution_count": 24,
   "metadata": {},
   "outputs": [],
   "source": [
    "df.drop(['geometry_y'], axis=1,inplace=True)\n",
    "df.drop(['geometry_x'], axis=1,inplace=True)"
   ]
  },
  {
   "cell_type": "code",
   "execution_count": 25,
   "metadata": {},
   "outputs": [
    {
     "data": {
      "text/plain": [
       "(6002793, 93)"
      ]
     },
     "execution_count": 25,
     "metadata": {},
     "output_type": "execute_result"
    }
   ],
   "source": [
    "df.shape"
   ]
  },
  {
   "cell_type": "code",
   "execution_count": null,
   "metadata": {},
   "outputs": [],
   "source": []
  },
  {
   "cell_type": "code",
   "execution_count": 26,
   "metadata": {},
   "outputs": [],
   "source": [
    "df[\"shared\"] = df[\"Shared Trip Authorized\"]\n",
    "df[\"trip_seconds\"] = df[\"Trip Seconds\"]\n",
    "df['trip_miles'] = df[\"Trip Miles\"]\n",
    "\n",
    "df['start_dayweek'] = df['start_datetime'].dt.dayofweek\n",
    "\n",
    "df['day'] = df['start_datetime'].dt.day\n",
    "df['hour'] = df['start_datetime'].dt.hour\n",
    "\n",
    "df['pick_long'] = df['Pickup Centroid Longitude']\n",
    "df['pick_lat'] = df['Pickup Centroid Latitude']\n",
    "df['drop_long'] = df['Dropoff Centroid Longitude']\n",
    "df['drop_lat'] = df['Dropoff Centroid Latitude']\n",
    "\n",
    "#df['ln_total_pop_x'] = np.log(df['total_pop_x'])\n",
    "#df['ln_total_pop_y'] = np.log(df['total_pop_y'])\n",
    "\n",
    "df['yyyymm'] = (df['year'] - 2019)*12 + df['month']"
   ]
  },
  {
   "cell_type": "code",
   "execution_count": 27,
   "metadata": {},
   "outputs": [],
   "source": [
    "df['work_day'] = 1"
   ]
  },
  {
   "cell_type": "code",
   "execution_count": 28,
   "metadata": {},
   "outputs": [],
   "source": [
    "#weekends\n",
    "df.loc[df.start_dayweek >= 6, 'work_day'] = 0"
   ]
  },
  {
   "cell_type": "code",
   "execution_count": 29,
   "metadata": {},
   "outputs": [],
   "source": [
    "#holidays\n",
    "df.loc[(df.month == 1) & (df.day==1), 'work_day'] = 0\n",
    "df.loc[(df.month == 1) & (df.day==21), 'work_day'] = 0\n",
    "df.loc[(df.month == 2) & (df.day==12), 'work_day'] = 0\n",
    "df.loc[(df.month == 2) & (df.day==18), 'work_day'] = 0\n",
    "df.loc[(df.month == 3) & (df.day==4), 'work_day'] = 0\n",
    "df.loc[(df.month == 5) & (df.day==27), 'work_day'] = 0\n",
    "df.loc[(df.month == 7) & (df.day==4), 'work_day'] = 0\n",
    "df.loc[(df.month == 9) & (df.day==2), 'work_day'] = 0\n",
    "df.loc[(df.month == 10) & (df.day==14), 'work_day'] = 0\n",
    "df.loc[(df.month == 11) & (df.day==11), 'work_day'] = 0\n",
    "df.loc[(df.month == 11) & (df.day==28), 'work_day'] = 0\n",
    "df.loc[(df.month == 12) & (df.day==25), 'work_day'] = 0"
   ]
  },
  {
   "cell_type": "code",
   "execution_count": null,
   "metadata": {},
   "outputs": [],
   "source": []
  },
  {
   "cell_type": "markdown",
   "metadata": {},
   "source": [
    "## NOAA"
   ]
  },
  {
   "cell_type": "code",
   "execution_count": 30,
   "metadata": {},
   "outputs": [],
   "source": [
    "noaa = pd.read_csv(\"data/hourly_climate.csv\")"
   ]
  },
  {
   "cell_type": "code",
   "execution_count": 31,
   "metadata": {},
   "outputs": [],
   "source": [
    "df = df.merge(noaa,how=\"left\",on=['year','month','day','hour'])"
   ]
  },
  {
   "cell_type": "markdown",
   "metadata": {},
   "source": [
    "## Distance-based features"
   ]
  },
  {
   "cell_type": "code",
   "execution_count": 32,
   "metadata": {},
   "outputs": [],
   "source": [
    "def haversine(lat1, lng1, lat2, lng2):\n",
    "    lat1, lng1, lat2, lng2 = map(np.radians, (lat1, lng1, lat2, lng2))\n",
    "    EARTH_RADIUS = 6371  # in km\n",
    "    lat = lat2 - lat1\n",
    "    lng = lng2 - lng1\n",
    "    d = np.sin(lat * 0.5) ** 2 + np.cos(lat1) * np.cos(lat2) * np.sin(lng * 0.5) ** 2\n",
    "    h = 2 * EARTH_RADIUS * np.arcsin(np.sqrt(d))\n",
    "    return h\n",
    "\n",
    "def manhattan(lat1, lng1, lat2, lng2):\n",
    "    a = haversine(lat1, lng1, lat1, lng2)\n",
    "    b = haversine(lat1, lng1, lat2, lng1)\n",
    "    return a + b\n"
   ]
  },
  {
   "cell_type": "code",
   "execution_count": 33,
   "metadata": {},
   "outputs": [],
   "source": [
    "def compute_distance(df):\n",
    "    \n",
    "    dt = (41.8757,-87.6243)\n",
    "    \n",
    "    df['distance_haversine'] = haversine(df['pick_lat'].values, \n",
    "                                        df['pick_long'].values, \n",
    "                                        df['drop_lat'].values, \n",
    "                                        df['drop_long'].values)\n",
    "    \n",
    "    df['distance_manhattan'] = manhattan(df['pick_lat'].values, \n",
    "                                        df['pick_long'].values, \n",
    "                                        df['drop_lat'].values, \n",
    "                                        df['drop_long'].values)\n",
    "    \n",
    "    df['pick_dist_dt'] = haversine(df['pick_lat'].values, \n",
    "                                        df['pick_long'].values, \n",
    "                                        dt[0], dt[1])\n",
    "    \n",
    "    df['drop_dist_dt'] = haversine(dt[0],dt[1], \n",
    "                                        df['drop_lat'].values, \n",
    "                                        df['drop_long'].values)"
   ]
  },
  {
   "cell_type": "code",
   "execution_count": 34,
   "metadata": {},
   "outputs": [],
   "source": [
    "compute_distance(df)\n",
    "\n",
    "df['trip_direction'] = np.degrees(np.arctan2((df['drop_lat'] - df['pick_lat']),(df['drop_long'] - df['pick_long'])))\n"
   ]
  },
  {
   "cell_type": "code",
   "execution_count": 35,
   "metadata": {},
   "outputs": [],
   "source": [
    "df['ln_pop_den_x'] = (np.log(df['total_pop_x']/df['area_upr_x']))\n",
    "df['ln_pop_den_y'] = (np.log(df['total_pop_y']/df['area_upr_y']))\n",
    "\n",
    "df['pct_non_white_x'] = 100 - df['pct_white_x']\n",
    "df['pct_non_white_y'] = 100 - df['pct_white_y']\n"
   ]
  },
  {
   "cell_type": "code",
   "execution_count": null,
   "metadata": {},
   "outputs": [],
   "source": []
  },
  {
   "cell_type": "code",
   "execution_count": null,
   "metadata": {},
   "outputs": [],
   "source": []
  },
  {
   "cell_type": "code",
   "execution_count": 36,
   "metadata": {},
   "outputs": [],
   "source": [
    "np.random.seed(111)\n",
    "df['test'] = np.random.binomial(1, 0.2, size=df.shape[0])"
   ]
  },
  {
   "cell_type": "code",
   "execution_count": 37,
   "metadata": {},
   "outputs": [
    {
     "data": {
      "text/plain": [
       "1200359"
      ]
     },
     "execution_count": 37,
     "metadata": {},
     "output_type": "execute_result"
    }
   ],
   "source": [
    "df['test'].sum()"
   ]
  },
  {
   "cell_type": "markdown",
   "metadata": {},
   "source": [
    "## Matching"
   ]
  },
  {
   "cell_type": "code",
   "execution_count": 38,
   "metadata": {},
   "outputs": [
    {
     "name": "stdout",
     "output_type": "stream",
     "text": [
      "Wall time: 0 ns\n"
     ]
    },
    {
     "data": {
      "text/plain": [
       "\"\\ndf_plot = df.groupby(['shared', 'hour','month','work_day','test',\\n                                 'Pickup Census Tract','Dropoff Census Tract']).mean().reset_index()\\n\\ndf_match = df_plot[['Pickup Census Tract','Dropoff Census Tract','shared','hour','month','work_day',\\n                    'test','Trip Seconds','Trip Miles','Fare']][df_plot.shared == False].drop('shared',axis=1)\\ndf_match = df_match[df_match.test==0].drop('test',axis=1)\\n\\ndf_match.columns = ['Pickup Census Tract','Dropoff Census Tract','hour','month','work_day',\\n                    'ave_solo_secs','ave_solo_miles','ave_solo_fare']\\n\\ndf = df.merge(df_match,how='left',on=['Pickup Census Tract','Dropoff Census Tract','hour','month','work_day'])\\n\\n\\ndf['detour_time'] = (df['Trip Seconds'] - df['ave_solo_secs'])/df['ave_solo_secs'] * 100\\ndf['detour_dist'] = (df['Trip Miles'] - df['ave_solo_miles'])/df['ave_solo_miles'] * 100\\ndf['discount_fare'] = (df['Fare'] - df['ave_solo_fare'])/df['ave_solo_fare']*100\\n\""
      ]
     },
     "execution_count": 38,
     "metadata": {},
     "output_type": "execute_result"
    }
   ],
   "source": [
    "%%time\n",
    "'''\n",
    "df_plot = df.groupby(['shared', 'hour','month','work_day','test',\n",
    "                                 'Pickup Census Tract','Dropoff Census Tract']).mean().reset_index()\n",
    "\n",
    "df_match = df_plot[['Pickup Census Tract','Dropoff Census Tract','shared','hour','month','work_day',\n",
    "                    'test','Trip Seconds','Trip Miles','Fare']][df_plot.shared == False].drop('shared',axis=1)\n",
    "df_match = df_match[df_match.test==0].drop('test',axis=1)\n",
    "\n",
    "df_match.columns = ['Pickup Census Tract','Dropoff Census Tract','hour','month','work_day',\n",
    "                    'ave_solo_secs','ave_solo_miles','ave_solo_fare']\n",
    "\n",
    "df = df.merge(df_match,how='left',on=['Pickup Census Tract','Dropoff Census Tract','hour','month','work_day'])\n",
    "\n",
    "\n",
    "df['detour_time'] = (df['Trip Seconds'] - df['ave_solo_secs'])/df['ave_solo_secs'] * 100\n",
    "df['detour_dist'] = (df['Trip Miles'] - df['ave_solo_miles'])/df['ave_solo_miles'] * 100\n",
    "df['discount_fare'] = (df['Fare'] - df['ave_solo_fare'])/df['ave_solo_fare']*100\n",
    "'''"
   ]
  },
  {
   "cell_type": "code",
   "execution_count": 39,
   "metadata": {},
   "outputs": [
    {
     "data": {
      "text/plain": [
       "\"\\ndf2 = df.groupby(['shared', 'hour', 'month','work_day','test',\\n                                 'Pickup Census Tract','Dropoff Census Tract'])        .agg({'shared':'size'})\\ndf2.columns = ['trip_counts']\\ndf2 = df2.reset_index()\\ndf2 = df2.drop(['shared'],axis=1)\\n\\ndf2 = df2[df2.test==0]\\n\\ndf2 = df2.drop(['test'],axis=1)\\n\\ndf = df.merge(df2,how='left',on=['Pickup Census Tract','Dropoff Census Tract','hour','month','work_day'])\\n\\ndf.shape\\n\""
      ]
     },
     "execution_count": 39,
     "metadata": {},
     "output_type": "execute_result"
    }
   ],
   "source": [
    "'''\n",
    "df2 = df.groupby(['shared', 'hour', 'month','work_day','test',\n",
    "                                 'Pickup Census Tract','Dropoff Census Tract']) \\\n",
    "       .agg({'shared':'size'})\n",
    "df2.columns = ['trip_counts']\n",
    "df2 = df2.reset_index()\n",
    "df2 = df2.drop(['shared'],axis=1)\n",
    "\n",
    "df2 = df2[df2.test==0]\n",
    "\n",
    "df2 = df2.drop(['test'],axis=1)\n",
    "\n",
    "df = df.merge(df2,how='left',on=['Pickup Census Tract','Dropoff Census Tract','hour','month','work_day'])\n",
    "\n",
    "df.shape\n",
    "'''"
   ]
  },
  {
   "cell_type": "code",
   "execution_count": 40,
   "metadata": {},
   "outputs": [
    {
     "data": {
      "text/plain": [
       "(6002793, 119)"
      ]
     },
     "execution_count": 40,
     "metadata": {},
     "output_type": "execute_result"
    }
   ],
   "source": [
    "#df = df[df.trip_counts >= 10]\n",
    "\n",
    "df.shape"
   ]
  },
  {
   "cell_type": "code",
   "execution_count": 41,
   "metadata": {},
   "outputs": [],
   "source": [
    "df.dropna(inplace=True)"
   ]
  },
  {
   "cell_type": "code",
   "execution_count": 42,
   "metadata": {},
   "outputs": [],
   "source": [
    "df['rain'] = pd.cut(df.hour_prec, [-np.inf, 0.01, 0.1, 0.3, 2, +np.inf] , labels = [0,1,2,3,4]).astype(int)"
   ]
  },
  {
   "cell_type": "markdown",
   "metadata": {},
   "source": [
    "## Balance"
   ]
  },
  {
   "cell_type": "code",
   "execution_count": 43,
   "metadata": {},
   "outputs": [],
   "source": [
    "def balance(df, j):\n",
    "        \n",
    "    count_class_0, count_class_1 = df.shared.value_counts()\n",
    "\n",
    "    df_class_0 = df[df['shared'] == 0]\n",
    "    df_class_1 = df[df['shared'] == 1]\n",
    "\n",
    "    df_class_0_under = df_class_0.sample(count_class_1)\n",
    "    df_test_under = pd.concat([df_class_0_under, df_class_1], axis=0)\n",
    "    \n",
    "    df_test_under.shape\n",
    "    df_test_under.to_csv(\"trip_records_acs_\" + str(d) + \"_\" + j + \"_\" + str(k) + \".csv\")\n",
    "    \n",
    "    df_test_under.shared.value_counts().plot(kind='bar', title='Count (target)')"
   ]
  },
  {
   "cell_type": "code",
   "execution_count": 44,
   "metadata": {},
   "outputs": [
    {
     "name": "stdout",
     "output_type": "stream",
     "text": [
      "<class 'pandas.core.frame.DataFrame'>\n",
      "Int64Index: 5894230 entries, 0 to 6002792\n",
      "Columns: 120 entries, Trip ID to rain\n",
      "dtypes: bool(2), datetime64[ns](1), float64(66), int32(4), int64(20), object(27)\n",
      "memory usage: 5.1+ GB\n"
     ]
    }
   ],
   "source": [
    "df.info()"
   ]
  },
  {
   "cell_type": "code",
   "execution_count": null,
   "metadata": {},
   "outputs": [],
   "source": [
    "balance(df[df.test==0], 'train')"
   ]
  },
  {
   "cell_type": "code",
   "execution_count": null,
   "metadata": {},
   "outputs": [],
   "source": [
    "balance(df[df.test==1], 'test')"
   ]
  },
  {
   "cell_type": "code",
   "execution_count": null,
   "metadata": {},
   "outputs": [],
   "source": [
    "df_plot = df.groupby(['shared', 'hour']).size().reset_index().pivot(columns=\n",
    "                                                                    'shared', index='hour', values=0)\n",
    "df_plot.plot(kind='bar', stacked=True,figsize=(10,5))"
   ]
  },
  {
   "cell_type": "code",
   "execution_count": null,
   "metadata": {},
   "outputs": [],
   "source": [
    "df_plot = df.groupby(['shared', 'yyyymm']).size().reset_index().pivot(columns=\n",
    "                                                                    'shared', index='yyyymm', values=0)\n",
    "df_plot.plot(kind='bar', stacked=True,figsize=(10,5))"
   ]
  },
  {
   "cell_type": "code",
   "execution_count": null,
   "metadata": {},
   "outputs": [],
   "source": []
  },
  {
   "cell_type": "code",
   "execution_count": null,
   "metadata": {},
   "outputs": [],
   "source": []
  },
  {
   "cell_type": "code",
   "execution_count": null,
   "metadata": {},
   "outputs": [],
   "source": []
  },
  {
   "cell_type": "code",
   "execution_count": null,
   "metadata": {},
   "outputs": [],
   "source": []
  },
  {
   "cell_type": "code",
   "execution_count": null,
   "metadata": {},
   "outputs": [],
   "source": []
  },
  {
   "cell_type": "code",
   "execution_count": null,
   "metadata": {},
   "outputs": [],
   "source": []
  },
  {
   "cell_type": "code",
   "execution_count": null,
   "metadata": {},
   "outputs": [],
   "source": []
  },
  {
   "cell_type": "code",
   "execution_count": null,
   "metadata": {},
   "outputs": [],
   "source": []
  },
  {
   "cell_type": "code",
   "execution_count": null,
   "metadata": {},
   "outputs": [],
   "source": []
  }
 ],
 "metadata": {
  "kernelspec": {
   "display_name": "Python 3 (ipykernel)",
   "language": "python",
   "name": "python3"
  },
  "language_info": {
   "codemirror_mode": {
    "name": "ipython",
    "version": 3
   },
   "file_extension": ".py",
   "mimetype": "text/x-python",
   "name": "python",
   "nbconvert_exporter": "python",
   "pygments_lexer": "ipython3",
   "version": "3.9.7"
  }
 },
 "nbformat": 4,
 "nbformat_minor": 4
}
